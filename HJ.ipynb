{
 "cells": [
  {
   "cell_type": "markdown",
   "id": "95b19a14",
   "metadata": {},
   "source": [
    "## Data Exploration and Visualisation"
   ]
  },
  {
   "cell_type": "code",
   "execution_count": 36,
   "id": "37508466",
   "metadata": {},
   "outputs": [],
   "source": [
    "import pandas as pd\n",
    "import numpy as np\n",
    "import matplotlib.pyplot as plt\n",
    "import seaborn as sns \n",
    "\n",
    "from sklearn.ensemble import RandomForestClassifier\n",
    "from pandas.plotting import scatter_matrix\n",
    "from sklearn.model_selection import train_test_split\n",
    "from sklearn.impute import SimpleImputer\n",
    "from sklearn.preprocessing import StandardScaler, LabelEncoder, LabelBinarizer\n",
    "from sklearn.metrics import accuracy_score\n",
    "from sklearn.linear_model import SGDClassifier\n",
    "from sklearn.model_selection import cross_val_score\n",
    "from sklearn.model_selection import cross_val_predict\n",
    "from sklearn.metrics import confusion_matrix\n",
    "from sklearn.metrics import precision_score, recall_score, f1_score\n",
    "from sklearn.metrics import precision_recall_curve\n",
    "from sklearn.metrics import roc_curve\n",
    "from sklearn.metrics import roc_auc_score\n",
    "from sklearn.model_selection import GridSearchCV\n",
    "from sklearn.ensemble import RandomForestClassifier\n",
    "from sklearn.model_selection import RandomizedSearchCV\n",
    "from imblearn.under_sampling import RandomUnderSampler, TomekLinks\n",
    "from imblearn.over_sampling import RandomOverSampler, SMOTE\n",
    "\n",
    "np.random.seed(42) "
   ]
  },
  {
   "cell_type": "code",
   "execution_count": 2,
   "id": "66ce7e92",
   "metadata": {},
   "outputs": [
    {
     "data": {
      "text/html": [
       "<div>\n",
       "<style scoped>\n",
       "    .dataframe tbody tr th:only-of-type {\n",
       "        vertical-align: middle;\n",
       "    }\n",
       "\n",
       "    .dataframe tbody tr th {\n",
       "        vertical-align: top;\n",
       "    }\n",
       "\n",
       "    .dataframe thead th {\n",
       "        text-align: right;\n",
       "    }\n",
       "</style>\n",
       "<table border=\"1\" class=\"dataframe\">\n",
       "  <thead>\n",
       "    <tr style=\"text-align: right;\">\n",
       "      <th></th>\n",
       "      <th>gender</th>\n",
       "      <th>age</th>\n",
       "      <th>maritalStatus</th>\n",
       "      <th>children</th>\n",
       "      <th>education</th>\n",
       "      <th>income</th>\n",
       "      <th>destination</th>\n",
       "      <th>passanger</th>\n",
       "      <th>weather</th>\n",
       "      <th>temperature</th>\n",
       "      <th>...</th>\n",
       "      <th>visitCoffeeHouse</th>\n",
       "      <th>visitFastFood</th>\n",
       "      <th>visitFoodCourt</th>\n",
       "      <th>visitRestaurant</th>\n",
       "      <th>storeType</th>\n",
       "      <th>offerEndSoon</th>\n",
       "      <th>moreThan5km</th>\n",
       "      <th>moreThan15km</th>\n",
       "      <th>sameDirection</th>\n",
       "      <th>stopBy(y)</th>\n",
       "    </tr>\n",
       "  </thead>\n",
       "  <tbody>\n",
       "    <tr>\n",
       "      <th>0</th>\n",
       "      <td>Female</td>\n",
       "      <td>21</td>\n",
       "      <td>Partner</td>\n",
       "      <td>0</td>\n",
       "      <td>College</td>\n",
       "      <td>$87500 - $99999</td>\n",
       "      <td>Others</td>\n",
       "      <td>Friends</td>\n",
       "      <td>Sunny</td>\n",
       "      <td>28</td>\n",
       "      <td>...</td>\n",
       "      <td>very often</td>\n",
       "      <td>often</td>\n",
       "      <td>often</td>\n",
       "      <td>rarely</td>\n",
       "      <td>Food Court</td>\n",
       "      <td>Yes</td>\n",
       "      <td>0</td>\n",
       "      <td>0</td>\n",
       "      <td>0</td>\n",
       "      <td>1</td>\n",
       "    </tr>\n",
       "    <tr>\n",
       "      <th>1</th>\n",
       "      <td>Female</td>\n",
       "      <td>26</td>\n",
       "      <td>Married</td>\n",
       "      <td>0</td>\n",
       "      <td>Graduate degree</td>\n",
       "      <td>$50000 - $62499</td>\n",
       "      <td>Others</td>\n",
       "      <td>Partner</td>\n",
       "      <td>Sunny</td>\n",
       "      <td>28</td>\n",
       "      <td>...</td>\n",
       "      <td>rarely</td>\n",
       "      <td>rarely</td>\n",
       "      <td>very often</td>\n",
       "      <td>rarely</td>\n",
       "      <td>Coffee House</td>\n",
       "      <td>No</td>\n",
       "      <td>0</td>\n",
       "      <td>0</td>\n",
       "      <td>0</td>\n",
       "      <td>0</td>\n",
       "    </tr>\n",
       "    <tr>\n",
       "      <th>2</th>\n",
       "      <td>Female</td>\n",
       "      <td>31</td>\n",
       "      <td>Married</td>\n",
       "      <td>0</td>\n",
       "      <td>College</td>\n",
       "      <td>$100000 or More</td>\n",
       "      <td>Home</td>\n",
       "      <td>Alone</td>\n",
       "      <td>Sunny</td>\n",
       "      <td>28</td>\n",
       "      <td>...</td>\n",
       "      <td>rarely</td>\n",
       "      <td>very often</td>\n",
       "      <td>often</td>\n",
       "      <td>sometimes</td>\n",
       "      <td>Coffee House</td>\n",
       "      <td>Yes</td>\n",
       "      <td>0</td>\n",
       "      <td>0</td>\n",
       "      <td>1</td>\n",
       "      <td>1</td>\n",
       "    </tr>\n",
       "    <tr>\n",
       "      <th>3</th>\n",
       "      <td>Male</td>\n",
       "      <td>46</td>\n",
       "      <td>Single</td>\n",
       "      <td>0</td>\n",
       "      <td>College</td>\n",
       "      <td>Less than $12500</td>\n",
       "      <td>Others</td>\n",
       "      <td>Friends</td>\n",
       "      <td>Sunny</td>\n",
       "      <td>0</td>\n",
       "      <td>...</td>\n",
       "      <td>often</td>\n",
       "      <td>sometimes</td>\n",
       "      <td>rarely</td>\n",
       "      <td>sometimes</td>\n",
       "      <td>Fast Food</td>\n",
       "      <td>No</td>\n",
       "      <td>1</td>\n",
       "      <td>0</td>\n",
       "      <td>0</td>\n",
       "      <td>1</td>\n",
       "    </tr>\n",
       "    <tr>\n",
       "      <th>4</th>\n",
       "      <td>Female</td>\n",
       "      <td>21</td>\n",
       "      <td>Married</td>\n",
       "      <td>1</td>\n",
       "      <td>College</td>\n",
       "      <td>$25000 - $37499</td>\n",
       "      <td>Work</td>\n",
       "      <td>Alone</td>\n",
       "      <td>Sunny</td>\n",
       "      <td>13</td>\n",
       "      <td>...</td>\n",
       "      <td>very often</td>\n",
       "      <td>sometimes</td>\n",
       "      <td>very often</td>\n",
       "      <td>sometimes</td>\n",
       "      <td>Coffee House</td>\n",
       "      <td>Yes</td>\n",
       "      <td>1</td>\n",
       "      <td>1</td>\n",
       "      <td>0</td>\n",
       "      <td>1</td>\n",
       "    </tr>\n",
       "    <tr>\n",
       "      <th>...</th>\n",
       "      <td>...</td>\n",
       "      <td>...</td>\n",
       "      <td>...</td>\n",
       "      <td>...</td>\n",
       "      <td>...</td>\n",
       "      <td>...</td>\n",
       "      <td>...</td>\n",
       "      <td>...</td>\n",
       "      <td>...</td>\n",
       "      <td>...</td>\n",
       "      <td>...</td>\n",
       "      <td>...</td>\n",
       "      <td>...</td>\n",
       "      <td>...</td>\n",
       "      <td>...</td>\n",
       "      <td>...</td>\n",
       "      <td>...</td>\n",
       "      <td>...</td>\n",
       "      <td>...</td>\n",
       "      <td>...</td>\n",
       "      <td>...</td>\n",
       "    </tr>\n",
       "    <tr>\n",
       "      <th>12367</th>\n",
       "      <td>Female</td>\n",
       "      <td>31</td>\n",
       "      <td>Married</td>\n",
       "      <td>1</td>\n",
       "      <td>College</td>\n",
       "      <td>$12500 - $24999</td>\n",
       "      <td>Others</td>\n",
       "      <td>Friends</td>\n",
       "      <td>Sunny</td>\n",
       "      <td>28</td>\n",
       "      <td>...</td>\n",
       "      <td>NaN</td>\n",
       "      <td>often</td>\n",
       "      <td>often</td>\n",
       "      <td>NaN</td>\n",
       "      <td>Fast Food</td>\n",
       "      <td>Yes</td>\n",
       "      <td>1</td>\n",
       "      <td>0</td>\n",
       "      <td>0</td>\n",
       "      <td>1</td>\n",
       "    </tr>\n",
       "    <tr>\n",
       "      <th>12368</th>\n",
       "      <td>Female</td>\n",
       "      <td>36</td>\n",
       "      <td>Married</td>\n",
       "      <td>0</td>\n",
       "      <td>Bachelors degree</td>\n",
       "      <td>$25000 - $37499</td>\n",
       "      <td>Home</td>\n",
       "      <td>Alone</td>\n",
       "      <td>Rainy</td>\n",
       "      <td>13</td>\n",
       "      <td>...</td>\n",
       "      <td>sometimes</td>\n",
       "      <td>often</td>\n",
       "      <td>often</td>\n",
       "      <td>often</td>\n",
       "      <td>Coffee House</td>\n",
       "      <td>Yes</td>\n",
       "      <td>0</td>\n",
       "      <td>0</td>\n",
       "      <td>1</td>\n",
       "      <td>0</td>\n",
       "    </tr>\n",
       "    <tr>\n",
       "      <th>12369</th>\n",
       "      <td>Female</td>\n",
       "      <td>21</td>\n",
       "      <td>Partner</td>\n",
       "      <td>0</td>\n",
       "      <td>Associates degree</td>\n",
       "      <td>$75000 - $87499</td>\n",
       "      <td>Work</td>\n",
       "      <td>Alone</td>\n",
       "      <td>Sunny</td>\n",
       "      <td>13</td>\n",
       "      <td>...</td>\n",
       "      <td>rarely</td>\n",
       "      <td>sometimes</td>\n",
       "      <td>sometimes</td>\n",
       "      <td>rarely</td>\n",
       "      <td>Coffee House</td>\n",
       "      <td>Yes</td>\n",
       "      <td>1</td>\n",
       "      <td>1</td>\n",
       "      <td>0</td>\n",
       "      <td>0</td>\n",
       "    </tr>\n",
       "    <tr>\n",
       "      <th>12370</th>\n",
       "      <td>Male</td>\n",
       "      <td>31</td>\n",
       "      <td>Married</td>\n",
       "      <td>0</td>\n",
       "      <td>College</td>\n",
       "      <td>$100000 or More</td>\n",
       "      <td>Work</td>\n",
       "      <td>Alone</td>\n",
       "      <td>Sunny</td>\n",
       "      <td>28</td>\n",
       "      <td>...</td>\n",
       "      <td>never</td>\n",
       "      <td>often</td>\n",
       "      <td>sometimes</td>\n",
       "      <td>sometimes</td>\n",
       "      <td>Fast Food</td>\n",
       "      <td>Yes</td>\n",
       "      <td>0</td>\n",
       "      <td>0</td>\n",
       "      <td>1</td>\n",
       "      <td>1</td>\n",
       "    </tr>\n",
       "    <tr>\n",
       "      <th>12371</th>\n",
       "      <td>Female</td>\n",
       "      <td>55</td>\n",
       "      <td>Single</td>\n",
       "      <td>0</td>\n",
       "      <td>Graduate degree</td>\n",
       "      <td>$12500 - $24999</td>\n",
       "      <td>Home</td>\n",
       "      <td>Alone</td>\n",
       "      <td>Sunny</td>\n",
       "      <td>28</td>\n",
       "      <td>...</td>\n",
       "      <td>never</td>\n",
       "      <td>often</td>\n",
       "      <td>often</td>\n",
       "      <td>rarely</td>\n",
       "      <td>Food Court</td>\n",
       "      <td>Yes</td>\n",
       "      <td>0</td>\n",
       "      <td>0</td>\n",
       "      <td>1</td>\n",
       "      <td>0</td>\n",
       "    </tr>\n",
       "  </tbody>\n",
       "</table>\n",
       "<p>12372 rows × 22 columns</p>\n",
       "</div>"
      ],
      "text/plain": [
       "       gender  age maritalStatus  children          education  \\\n",
       "0      Female   21       Partner         0            College   \n",
       "1      Female   26       Married         0    Graduate degree   \n",
       "2      Female   31       Married         0            College   \n",
       "3        Male   46        Single         0            College   \n",
       "4      Female   21       Married         1            College   \n",
       "...       ...  ...           ...       ...                ...   \n",
       "12367  Female   31       Married         1            College   \n",
       "12368  Female   36       Married         0   Bachelors degree   \n",
       "12369  Female   21       Partner         0  Associates degree   \n",
       "12370    Male   31       Married         0            College   \n",
       "12371  Female   55        Single         0    Graduate degree   \n",
       "\n",
       "                 income destination passanger weather  temperature  ...  \\\n",
       "0       $87500 - $99999      Others   Friends   Sunny           28  ...   \n",
       "1       $50000 - $62499      Others   Partner   Sunny           28  ...   \n",
       "2       $100000 or More        Home     Alone   Sunny           28  ...   \n",
       "3      Less than $12500      Others   Friends   Sunny            0  ...   \n",
       "4       $25000 - $37499        Work     Alone   Sunny           13  ...   \n",
       "...                 ...         ...       ...     ...          ...  ...   \n",
       "12367   $12500 - $24999      Others   Friends   Sunny           28  ...   \n",
       "12368   $25000 - $37499        Home     Alone   Rainy           13  ...   \n",
       "12369   $75000 - $87499        Work     Alone   Sunny           13  ...   \n",
       "12370   $100000 or More        Work     Alone   Sunny           28  ...   \n",
       "12371   $12500 - $24999        Home     Alone   Sunny           28  ...   \n",
       "\n",
       "       visitCoffeeHouse visitFastFood visitFoodCourt visitRestaurant  \\\n",
       "0            very often         often          often          rarely   \n",
       "1                rarely        rarely     very often          rarely   \n",
       "2                rarely    very often          often       sometimes   \n",
       "3                 often     sometimes         rarely       sometimes   \n",
       "4            very often     sometimes     very often       sometimes   \n",
       "...                 ...           ...            ...             ...   \n",
       "12367               NaN         often          often             NaN   \n",
       "12368         sometimes         often          often           often   \n",
       "12369            rarely     sometimes      sometimes          rarely   \n",
       "12370             never         often      sometimes       sometimes   \n",
       "12371             never         often          often          rarely   \n",
       "\n",
       "          storeType offerEndSoon moreThan5km moreThan15km  sameDirection  \\\n",
       "0        Food Court          Yes           0            0              0   \n",
       "1      Coffee House           No           0            0              0   \n",
       "2      Coffee House          Yes           0            0              1   \n",
       "3         Fast Food           No           1            0              0   \n",
       "4      Coffee House          Yes           1            1              0   \n",
       "...             ...          ...         ...          ...            ...   \n",
       "12367     Fast Food          Yes           1            0              0   \n",
       "12368  Coffee House          Yes           0            0              1   \n",
       "12369  Coffee House          Yes           1            1              0   \n",
       "12370     Fast Food          Yes           0            0              1   \n",
       "12371    Food Court          Yes           0            0              1   \n",
       "\n",
       "       stopBy(y)  \n",
       "0              1  \n",
       "1              0  \n",
       "2              1  \n",
       "3              1  \n",
       "4              1  \n",
       "...          ...  \n",
       "12367          1  \n",
       "12368          0  \n",
       "12369          0  \n",
       "12370          1  \n",
       "12371          0  \n",
       "\n",
       "[12372 rows x 22 columns]"
      ]
     },
     "execution_count": 2,
     "metadata": {},
     "output_type": "execute_result"
    }
   ],
   "source": [
    "# load dataset into variable assign\n",
    "assign =pd.read_csv(\"dataset.csv\", na_values=['unknown'])\n",
    "assign"
   ]
  },
  {
   "cell_type": "code",
   "execution_count": 3,
   "id": "e01d44f5",
   "metadata": {},
   "outputs": [
    {
     "data": {
      "text/html": [
       "<div>\n",
       "<style scoped>\n",
       "    .dataframe tbody tr th:only-of-type {\n",
       "        vertical-align: middle;\n",
       "    }\n",
       "\n",
       "    .dataframe tbody tr th {\n",
       "        vertical-align: top;\n",
       "    }\n",
       "\n",
       "    .dataframe thead th {\n",
       "        text-align: right;\n",
       "    }\n",
       "</style>\n",
       "<table border=\"1\" class=\"dataframe\">\n",
       "  <thead>\n",
       "    <tr style=\"text-align: right;\">\n",
       "      <th></th>\n",
       "      <th>gender</th>\n",
       "      <th>age</th>\n",
       "      <th>maritalStatus</th>\n",
       "      <th>children</th>\n",
       "      <th>education</th>\n",
       "      <th>income</th>\n",
       "      <th>destination</th>\n",
       "      <th>passanger</th>\n",
       "      <th>weather</th>\n",
       "      <th>temperature</th>\n",
       "      <th>...</th>\n",
       "      <th>visitCoffeeHouse</th>\n",
       "      <th>visitFastFood</th>\n",
       "      <th>visitFoodCourt</th>\n",
       "      <th>visitRestaurant</th>\n",
       "      <th>storeType</th>\n",
       "      <th>offerEndSoon</th>\n",
       "      <th>moreThan5km</th>\n",
       "      <th>moreThan15km</th>\n",
       "      <th>sameDirection</th>\n",
       "      <th>stopBy(y)</th>\n",
       "    </tr>\n",
       "  </thead>\n",
       "  <tbody>\n",
       "    <tr>\n",
       "      <th>0</th>\n",
       "      <td>Female</td>\n",
       "      <td>21</td>\n",
       "      <td>Partner</td>\n",
       "      <td>0</td>\n",
       "      <td>College</td>\n",
       "      <td>$87500 - $99999</td>\n",
       "      <td>Others</td>\n",
       "      <td>Friends</td>\n",
       "      <td>Sunny</td>\n",
       "      <td>28</td>\n",
       "      <td>...</td>\n",
       "      <td>very often</td>\n",
       "      <td>often</td>\n",
       "      <td>often</td>\n",
       "      <td>rarely</td>\n",
       "      <td>Food Court</td>\n",
       "      <td>Yes</td>\n",
       "      <td>0</td>\n",
       "      <td>0</td>\n",
       "      <td>0</td>\n",
       "      <td>1</td>\n",
       "    </tr>\n",
       "    <tr>\n",
       "      <th>1</th>\n",
       "      <td>Female</td>\n",
       "      <td>26</td>\n",
       "      <td>Married</td>\n",
       "      <td>0</td>\n",
       "      <td>Graduate degree</td>\n",
       "      <td>$50000 - $62499</td>\n",
       "      <td>Others</td>\n",
       "      <td>Partner</td>\n",
       "      <td>Sunny</td>\n",
       "      <td>28</td>\n",
       "      <td>...</td>\n",
       "      <td>rarely</td>\n",
       "      <td>rarely</td>\n",
       "      <td>very often</td>\n",
       "      <td>rarely</td>\n",
       "      <td>Coffee House</td>\n",
       "      <td>No</td>\n",
       "      <td>0</td>\n",
       "      <td>0</td>\n",
       "      <td>0</td>\n",
       "      <td>0</td>\n",
       "    </tr>\n",
       "    <tr>\n",
       "      <th>2</th>\n",
       "      <td>Female</td>\n",
       "      <td>31</td>\n",
       "      <td>Married</td>\n",
       "      <td>0</td>\n",
       "      <td>College</td>\n",
       "      <td>$100000 or More</td>\n",
       "      <td>Home</td>\n",
       "      <td>Alone</td>\n",
       "      <td>Sunny</td>\n",
       "      <td>28</td>\n",
       "      <td>...</td>\n",
       "      <td>rarely</td>\n",
       "      <td>very often</td>\n",
       "      <td>often</td>\n",
       "      <td>sometimes</td>\n",
       "      <td>Coffee House</td>\n",
       "      <td>Yes</td>\n",
       "      <td>0</td>\n",
       "      <td>0</td>\n",
       "      <td>1</td>\n",
       "      <td>1</td>\n",
       "    </tr>\n",
       "    <tr>\n",
       "      <th>3</th>\n",
       "      <td>Male</td>\n",
       "      <td>46</td>\n",
       "      <td>Single</td>\n",
       "      <td>0</td>\n",
       "      <td>College</td>\n",
       "      <td>Less than $12500</td>\n",
       "      <td>Others</td>\n",
       "      <td>Friends</td>\n",
       "      <td>Sunny</td>\n",
       "      <td>0</td>\n",
       "      <td>...</td>\n",
       "      <td>often</td>\n",
       "      <td>sometimes</td>\n",
       "      <td>rarely</td>\n",
       "      <td>sometimes</td>\n",
       "      <td>Fast Food</td>\n",
       "      <td>No</td>\n",
       "      <td>1</td>\n",
       "      <td>0</td>\n",
       "      <td>0</td>\n",
       "      <td>1</td>\n",
       "    </tr>\n",
       "    <tr>\n",
       "      <th>4</th>\n",
       "      <td>Female</td>\n",
       "      <td>21</td>\n",
       "      <td>Married</td>\n",
       "      <td>1</td>\n",
       "      <td>College</td>\n",
       "      <td>$25000 - $37499</td>\n",
       "      <td>Work</td>\n",
       "      <td>Alone</td>\n",
       "      <td>Sunny</td>\n",
       "      <td>13</td>\n",
       "      <td>...</td>\n",
       "      <td>very often</td>\n",
       "      <td>sometimes</td>\n",
       "      <td>very often</td>\n",
       "      <td>sometimes</td>\n",
       "      <td>Coffee House</td>\n",
       "      <td>Yes</td>\n",
       "      <td>1</td>\n",
       "      <td>1</td>\n",
       "      <td>0</td>\n",
       "      <td>1</td>\n",
       "    </tr>\n",
       "  </tbody>\n",
       "</table>\n",
       "<p>5 rows × 22 columns</p>\n",
       "</div>"
      ],
      "text/plain": [
       "   gender  age maritalStatus  children        education            income  \\\n",
       "0  Female   21       Partner         0          College   $87500 - $99999   \n",
       "1  Female   26       Married         0  Graduate degree   $50000 - $62499   \n",
       "2  Female   31       Married         0          College   $100000 or More   \n",
       "3    Male   46        Single         0          College  Less than $12500   \n",
       "4  Female   21       Married         1          College   $25000 - $37499   \n",
       "\n",
       "  destination passanger weather  temperature  ...  visitCoffeeHouse  \\\n",
       "0      Others   Friends   Sunny           28  ...        very often   \n",
       "1      Others   Partner   Sunny           28  ...            rarely   \n",
       "2        Home     Alone   Sunny           28  ...            rarely   \n",
       "3      Others   Friends   Sunny            0  ...             often   \n",
       "4        Work     Alone   Sunny           13  ...        very often   \n",
       "\n",
       "  visitFastFood visitFoodCourt visitRestaurant     storeType offerEndSoon  \\\n",
       "0         often          often          rarely    Food Court          Yes   \n",
       "1        rarely     very often          rarely  Coffee House           No   \n",
       "2    very often          often       sometimes  Coffee House          Yes   \n",
       "3     sometimes         rarely       sometimes     Fast Food           No   \n",
       "4     sometimes     very often       sometimes  Coffee House          Yes   \n",
       "\n",
       "  moreThan5km moreThan15km  sameDirection  stopBy(y)  \n",
       "0           0            0              0          1  \n",
       "1           0            0              0          0  \n",
       "2           0            0              1          1  \n",
       "3           1            0              0          1  \n",
       "4           1            1              0          1  \n",
       "\n",
       "[5 rows x 22 columns]"
      ]
     },
     "execution_count": 3,
     "metadata": {},
     "output_type": "execute_result"
    }
   ],
   "source": [
    "assign.head()"
   ]
  },
  {
   "cell_type": "code",
   "execution_count": 4,
   "id": "a6e700b3",
   "metadata": {},
   "outputs": [
    {
     "name": "stdout",
     "output_type": "stream",
     "text": [
      "<class 'pandas.core.frame.DataFrame'>\n",
      "RangeIndex: 12372 entries, 0 to 12371\n",
      "Data columns (total 22 columns):\n",
      " #   Column            Non-Null Count  Dtype \n",
      "---  ------            --------------  ----- \n",
      " 0   gender            12372 non-null  object\n",
      " 1   age               12372 non-null  int64 \n",
      " 2   maritalStatus     12372 non-null  object\n",
      " 3   children          12372 non-null  int64 \n",
      " 4   education         12372 non-null  object\n",
      " 5   income            12372 non-null  object\n",
      " 6   destination       12372 non-null  object\n",
      " 7   passanger         12372 non-null  object\n",
      " 8   weather           12372 non-null  object\n",
      " 9   temperature       12372 non-null  int64 \n",
      " 10  time              12372 non-null  int64 \n",
      " 11  visitPub          12267 non-null  object\n",
      " 12  visitCoffeeHouse  12158 non-null  object\n",
      " 13  visitFastFood     12224 non-null  object\n",
      " 14  visitFoodCourt    12244 non-null  object\n",
      " 15  visitRestaurant   12186 non-null  object\n",
      " 16  storeType         12372 non-null  object\n",
      " 17  offerEndSoon      12372 non-null  object\n",
      " 18  moreThan5km       12372 non-null  int64 \n",
      " 19  moreThan15km      12372 non-null  int64 \n",
      " 20  sameDirection     12372 non-null  int64 \n",
      " 21  stopBy(y)         12372 non-null  int64 \n",
      "dtypes: int64(8), object(14)\n",
      "memory usage: 2.1+ MB\n"
     ]
    }
   ],
   "source": [
    "assign.info()\n"
   ]
  },
  {
   "cell_type": "code",
   "execution_count": 5,
   "id": "66ae60ae",
   "metadata": {},
   "outputs": [
    {
     "data": {
      "text/html": [
       "<div>\n",
       "<style scoped>\n",
       "    .dataframe tbody tr th:only-of-type {\n",
       "        vertical-align: middle;\n",
       "    }\n",
       "\n",
       "    .dataframe tbody tr th {\n",
       "        vertical-align: top;\n",
       "    }\n",
       "\n",
       "    .dataframe thead th {\n",
       "        text-align: right;\n",
       "    }\n",
       "</style>\n",
       "<table border=\"1\" class=\"dataframe\">\n",
       "  <thead>\n",
       "    <tr style=\"text-align: right;\">\n",
       "      <th></th>\n",
       "      <th>age</th>\n",
       "      <th>children</th>\n",
       "      <th>temperature</th>\n",
       "      <th>time</th>\n",
       "      <th>moreThan5km</th>\n",
       "      <th>moreThan15km</th>\n",
       "      <th>sameDirection</th>\n",
       "      <th>stopBy(y)</th>\n",
       "    </tr>\n",
       "  </thead>\n",
       "  <tbody>\n",
       "    <tr>\n",
       "      <th>count</th>\n",
       "      <td>12372.000000</td>\n",
       "      <td>12372.000000</td>\n",
       "      <td>12372.000000</td>\n",
       "      <td>12372.000000</td>\n",
       "      <td>12372.000000</td>\n",
       "      <td>12372.000000</td>\n",
       "      <td>12372.000000</td>\n",
       "      <td>12372.000000</td>\n",
       "    </tr>\n",
       "    <tr>\n",
       "      <th>mean</th>\n",
       "      <td>32.906240</td>\n",
       "      <td>0.413919</td>\n",
       "      <td>18.343033</td>\n",
       "      <td>13.819835</td>\n",
       "      <td>0.561510</td>\n",
       "      <td>0.119463</td>\n",
       "      <td>0.215002</td>\n",
       "      <td>0.568704</td>\n",
       "    </tr>\n",
       "    <tr>\n",
       "      <th>std</th>\n",
       "      <td>11.579339</td>\n",
       "      <td>0.492554</td>\n",
       "      <td>10.863280</td>\n",
       "      <td>5.408967</td>\n",
       "      <td>0.496222</td>\n",
       "      <td>0.324346</td>\n",
       "      <td>0.410840</td>\n",
       "      <td>0.495277</td>\n",
       "    </tr>\n",
       "    <tr>\n",
       "      <th>min</th>\n",
       "      <td>18.000000</td>\n",
       "      <td>0.000000</td>\n",
       "      <td>0.000000</td>\n",
       "      <td>7.000000</td>\n",
       "      <td>0.000000</td>\n",
       "      <td>0.000000</td>\n",
       "      <td>0.000000</td>\n",
       "      <td>0.000000</td>\n",
       "    </tr>\n",
       "    <tr>\n",
       "      <th>25%</th>\n",
       "      <td>21.000000</td>\n",
       "      <td>0.000000</td>\n",
       "      <td>13.000000</td>\n",
       "      <td>10.000000</td>\n",
       "      <td>0.000000</td>\n",
       "      <td>0.000000</td>\n",
       "      <td>0.000000</td>\n",
       "      <td>0.000000</td>\n",
       "    </tr>\n",
       "    <tr>\n",
       "      <th>50%</th>\n",
       "      <td>31.000000</td>\n",
       "      <td>0.000000</td>\n",
       "      <td>28.000000</td>\n",
       "      <td>14.000000</td>\n",
       "      <td>1.000000</td>\n",
       "      <td>0.000000</td>\n",
       "      <td>0.000000</td>\n",
       "      <td>1.000000</td>\n",
       "    </tr>\n",
       "    <tr>\n",
       "      <th>75%</th>\n",
       "      <td>41.000000</td>\n",
       "      <td>1.000000</td>\n",
       "      <td>28.000000</td>\n",
       "      <td>18.000000</td>\n",
       "      <td>1.000000</td>\n",
       "      <td>0.000000</td>\n",
       "      <td>0.000000</td>\n",
       "      <td>1.000000</td>\n",
       "    </tr>\n",
       "    <tr>\n",
       "      <th>max</th>\n",
       "      <td>55.000000</td>\n",
       "      <td>1.000000</td>\n",
       "      <td>28.000000</td>\n",
       "      <td>22.000000</td>\n",
       "      <td>1.000000</td>\n",
       "      <td>1.000000</td>\n",
       "      <td>1.000000</td>\n",
       "      <td>1.000000</td>\n",
       "    </tr>\n",
       "  </tbody>\n",
       "</table>\n",
       "</div>"
      ],
      "text/plain": [
       "                age      children   temperature          time   moreThan5km  \\\n",
       "count  12372.000000  12372.000000  12372.000000  12372.000000  12372.000000   \n",
       "mean      32.906240      0.413919     18.343033     13.819835      0.561510   \n",
       "std       11.579339      0.492554     10.863280      5.408967      0.496222   \n",
       "min       18.000000      0.000000      0.000000      7.000000      0.000000   \n",
       "25%       21.000000      0.000000     13.000000     10.000000      0.000000   \n",
       "50%       31.000000      0.000000     28.000000     14.000000      1.000000   \n",
       "75%       41.000000      1.000000     28.000000     18.000000      1.000000   \n",
       "max       55.000000      1.000000     28.000000     22.000000      1.000000   \n",
       "\n",
       "       moreThan15km  sameDirection     stopBy(y)  \n",
       "count  12372.000000   12372.000000  12372.000000  \n",
       "mean       0.119463       0.215002      0.568704  \n",
       "std        0.324346       0.410840      0.495277  \n",
       "min        0.000000       0.000000      0.000000  \n",
       "25%        0.000000       0.000000      0.000000  \n",
       "50%        0.000000       0.000000      1.000000  \n",
       "75%        0.000000       0.000000      1.000000  \n",
       "max        1.000000       1.000000      1.000000  "
      ]
     },
     "execution_count": 5,
     "metadata": {},
     "output_type": "execute_result"
    }
   ],
   "source": [
    "assign.describe()"
   ]
  },
  {
   "cell_type": "code",
   "execution_count": 6,
   "id": "60df659d",
   "metadata": {},
   "outputs": [
    {
     "data": {
      "image/png": "[encoded data removed]",
      "text/plain": [
       "<Figure size 2000x1500 with 9 Axes>"
      ]
     },
     "metadata": {},
     "output_type": "display_data"
    }
   ],
   "source": [
    "assign.hist(bins=20, figsize = (20,15))\n",
    "plt.show()"
   ]
  },
  {
   "cell_type": "markdown",
   "id": "4e02e442",
   "metadata": {},
   "source": [
    "## Data Pre-processing"
   ]
  },
  {
   "cell_type": "code",
   "execution_count": 6,
   "id": "6c63b89b",
   "metadata": {},
   "outputs": [
    {
     "name": "stdout",
     "output_type": "stream",
     "text": [
      "Shape of X =  (12372, 21)\n",
      "Shape of y =  (12372,)\n"
     ]
    }
   ],
   "source": [
    "X = assign.drop(\"stopBy(y)\",axis=1)\n",
    "y = assign[\"stopBy(y)\"]\n",
    "\n",
    "print('Shape of X = ',X.shape)\n",
    "print('Shape of y = ',y.shape)\n"
   ]
  },
  {
   "cell_type": "code",
   "execution_count": 7,
   "id": "1c4d7735",
   "metadata": {},
   "outputs": [
    {
     "name": "stdout",
     "output_type": "stream",
     "text": [
      "full set shape (12372, 21)\n",
      "train set shape (9897, 21)\n",
      "test set shape (2475, 21)\n"
     ]
    }
   ],
   "source": [
    "X_train, X_test, y_train, y_test  = train_test_split(X, y, test_size=0.2, random_state=30)\n",
    "\n",
    "print(\"full set shape\", X.shape)\n",
    "print(\"train set shape\", X_train.shape)\n",
    "print(\"test set shape\", X_test.shape)"
   ]
  },
  {
   "cell_type": "code",
   "execution_count": 8,
   "id": "d38ad009",
   "metadata": {},
   "outputs": [
    {
     "name": "stdout",
     "output_type": "stream",
     "text": [
      "X_train_num shape: (9897, 7)\n",
      "X_train_cat shape: (9897, 14)\n"
     ]
    }
   ],
   "source": [
    "X_train_num = X_train.drop(['gender','maritalStatus','education','income','destination','passanger','weather','visitPub','visitCoffeeHouse','visitFastFood','visitFoodCourt','visitRestaurant','storeType','offerEndSoon'],axis=1)\n",
    "\n",
    "X_train_cat = X_train[['gender','maritalStatus','education','income','destination','passanger','weather','visitPub','visitCoffeeHouse','visitFastFood','visitFoodCourt','visitRestaurant','storeType','offerEndSoon']]\n",
    "\n",
    "print('X_train_num shape:', X_train_num.shape)\n",
    "print('X_train_cat shape:', X_train_cat.shape)\n"
   ]
  },
  {
   "cell_type": "code",
   "execution_count": 9,
   "id": "cada3fc5",
   "metadata": {},
   "outputs": [
    {
     "name": "stdout",
     "output_type": "stream",
     "text": [
      "\n",
      "Number of missing values for categorical features:\n",
      "gender                0\n",
      "maritalStatus         0\n",
      "education             0\n",
      "income                0\n",
      "destination           0\n",
      "passanger             0\n",
      "weather               0\n",
      "visitPub             86\n",
      "visitCoffeeHouse    165\n",
      "visitFastFood       122\n",
      "visitFoodCourt      109\n",
      "visitRestaurant     154\n",
      "storeType             0\n",
      "offerEndSoon          0\n",
      "dtype: int64\n"
     ]
    }
   ],
   "source": [
    "print('\\nNumber of missing values for categorical features:')\n",
    "\n",
    "print(X_train_cat.isnull().sum())\n"
   ]
  },
  {
   "cell_type": "code",
   "execution_count": 10,
   "id": "76d1f978",
   "metadata": {},
   "outputs": [
    {
     "name": "stdout",
     "output_type": "stream",
     "text": [
      "      gender maritalStatus             education            income  \\\n",
      "0     Female       Partner               College  Less than $12500   \n",
      "1     Female        Single               College   $12500 - $24999   \n",
      "2     Female       Partner  High School Graduate  Less than $12500   \n",
      "3       Male       Married       Graduate degree   $100000 or More   \n",
      "4     Female       Married               College   $100000 or More   \n",
      "...      ...           ...                   ...               ...   \n",
      "9892    Male        Single      Bachelors degree   $50000 - $62499   \n",
      "9893  Female        Single      Bachelors degree   $25000 - $37499   \n",
      "9894    Male        Single               College   $50000 - $62499   \n",
      "9895    Male       Married       Graduate degree   $87500 - $99999   \n",
      "9896  Female        Single       Graduate degree   $25000 - $37499   \n",
      "\n",
      "     destination passanger weather   visitPub visitCoffeeHouse visitFastFood  \\\n",
      "0           Home     Alone   Sunny      never        sometimes         often   \n",
      "1           Home     Alone   Sunny      never           rarely        rarely   \n",
      "2           Work     Alone   Sunny      never            often     sometimes   \n",
      "3           Work     Alone   Sunny      never            never     sometimes   \n",
      "4           Work     Alone   Snowy     rarely           rarely    very often   \n",
      "...          ...       ...     ...        ...              ...           ...   \n",
      "9892        Work     Alone   Sunny  sometimes            never        rarely   \n",
      "9893      Others   Friends   Snowy      never            often         often   \n",
      "9894        Work     Alone   Sunny      never            never        rarely   \n",
      "9895      Others   Friends   Sunny     rarely        sometimes     sometimes   \n",
      "9896        Home     Alone   Sunny     rarely            often         often   \n",
      "\n",
      "     visitFoodCourt visitRestaurant     storeType offerEndSoon  \n",
      "0         sometimes           often     Fast Food           No  \n",
      "1            rarely           never     Fast Food           No  \n",
      "2             often          rarely    Restaurant          Yes  \n",
      "3         sometimes          rarely  Coffee House          Yes  \n",
      "4             often          rarely    Food Court          Yes  \n",
      "...             ...             ...           ...          ...  \n",
      "9892          often           never    Restaurant           No  \n",
      "9893     very often          rarely     Fast Food           No  \n",
      "9894          often          rarely    Restaurant           No  \n",
      "9895         rarely       sometimes    Food Court          Yes  \n",
      "9896      sometimes          rarely    Restaurant          Yes  \n",
      "\n",
      "[9897 rows x 14 columns]\n"
     ]
    },
    {
     "data": {
      "text/plain": [
       "gender              0\n",
       "maritalStatus       0\n",
       "education           0\n",
       "income              0\n",
       "destination         0\n",
       "passanger           0\n",
       "weather             0\n",
       "visitPub            0\n",
       "visitCoffeeHouse    0\n",
       "visitFastFood       0\n",
       "visitFoodCourt      0\n",
       "visitRestaurant     0\n",
       "storeType           0\n",
       "offerEndSoon        0\n",
       "dtype: int64"
      ]
     },
     "execution_count": 10,
     "metadata": {},
     "output_type": "execute_result"
    }
   ],
   "source": [
    "imputer_cat = SimpleImputer(strategy='most_frequent')\n",
    " \n",
    "# transform the dataset\n",
    "X_train_cat_tr= imputer_cat.fit_transform(X_train_cat)\n",
    "\n",
    "#arrange back to the original order and change to DataFrame\n",
    "X_train_cat_tr_pd = pd.DataFrame(X_train_cat_tr, columns = X_train_cat.columns)\n",
    "\n",
    "print(X_train_cat_tr_pd)\n",
    "X_train_cat_tr_pd.isnull().sum()"
   ]
  },
  {
   "cell_type": "code",
   "execution_count": 11,
   "id": "ee6ce0b4",
   "metadata": {},
   "outputs": [
    {
     "name": "stdout",
     "output_type": "stream",
     "text": [
      "Number of missing values for numerical features:\n",
      "age              0\n",
      "children         0\n",
      "temperature      0\n",
      "time             0\n",
      "moreThan5km      0\n",
      "moreThan15km     0\n",
      "sameDirection    0\n",
      "dtype: int64\n"
     ]
    }
   ],
   "source": [
    "print('Number of missing values for numerical features:')\n",
    "\n",
    "print(X_train_num.isnull().sum())"
   ]
  },
  {
   "cell_type": "code",
   "execution_count": 12,
   "id": "fde51e44",
   "metadata": {},
   "outputs": [
    {
     "data": {
      "text/plain": [
       "array([[21.,  1., 28., ...,  0.,  0.,  0.],\n",
       "       [41.,  1., 28., ...,  0.,  0.,  1.],\n",
       "       [18.,  0., 28., ...,  0.,  0.,  1.],\n",
       "       ...,\n",
       "       [36.,  0., 28., ...,  1.,  0.,  0.],\n",
       "       [46.,  1.,  0., ...,  0.,  0.,  0.],\n",
       "       [36.,  1., 13., ...,  1.,  0.,  0.]])"
      ]
     },
     "execution_count": 12,
     "metadata": {},
     "output_type": "execute_result"
    }
   ],
   "source": [
    "imputer_num = SimpleImputer(strategy =\"median\")\n",
    "\n",
    "imputer_num.fit(X_train_num)\n",
    "\n",
    "X_train_num_tr = imputer_num.transform(X_train_num)\n",
    "\n",
    "X_train_num_tr"
   ]
  },
  {
   "cell_type": "code",
   "execution_count": 13,
   "id": "65d158a8",
   "metadata": {},
   "outputs": [
    {
     "name": "stdout",
     "output_type": "stream",
     "text": [
      "Type of X_train_num: <class 'pandas.core.frame.DataFrame'>\n",
      "Type of X_train_num_tr <class 'numpy.ndarray'>\n"
     ]
    }
   ],
   "source": [
    "print(\"Type of X_train_num:\", type(X_train_num))\n",
    "print(\"Type of X_train_num_tr\", type(X_train_num_tr))\n",
    "\n",
    "X_train_num_tr_pd = pd.DataFrame(X_train_num_tr, columns = X_train_num.columns)"
   ]
  },
  {
   "cell_type": "code",
   "execution_count": 14,
   "id": "25c2ee7e",
   "metadata": {},
   "outputs": [
    {
     "data": {
      "text/plain": [
       "age              0\n",
       "children         0\n",
       "temperature      0\n",
       "time             0\n",
       "moreThan5km      0\n",
       "moreThan15km     0\n",
       "sameDirection    0\n",
       "dtype: int64"
      ]
     },
     "execution_count": 14,
     "metadata": {},
     "output_type": "execute_result"
    }
   ],
   "source": [
    "X_train_num_tr_pd.isnull().sum()"
   ]
  },
  {
   "cell_type": "code",
   "execution_count": 15,
   "id": "84d664e7",
   "metadata": {},
   "outputs": [],
   "source": [
    "scaler = StandardScaler()\n",
    "\n",
    "scaler.fit(X_train_num_tr)\n",
    "\n",
    "X_train_num_tr = scaler.transform(X_train_num_tr)"
   ]
  },
  {
   "cell_type": "code",
   "execution_count": 16,
   "id": "2d96f441",
   "metadata": {},
   "outputs": [
    {
     "name": "stdout",
     "output_type": "stream",
     "text": [
      "Mean of all columns:\n",
      " [ 1.18459686e-16  7.82551866e-17  4.23583120e-17  1.01229186e-16\n",
      "  1.29228749e-17  1.36408123e-17 -1.74997264e-17]\n",
      "\n",
      "Std of all columns:\n",
      " 0.9999999999999999\n"
     ]
    }
   ],
   "source": [
    "print('Mean of all columns:\\n', X_train_num_tr.mean(axis=0))\n",
    "print('\\nStd of all columns:\\n', X_train_num_tr.std())"
   ]
  },
  {
   "cell_type": "code",
   "execution_count": 17,
   "id": "baefdd33",
   "metadata": {},
   "outputs": [],
   "source": [
    "le_encoder = LabelEncoder()\n",
    "lb_encoder1 = LabelBinarizer()\n",
    "lb_encoder2 = LabelBinarizer()\n",
    "lb_encoder3 = LabelBinarizer()\n",
    "lb_encoder4 = LabelBinarizer()\n",
    "lb_encoder5 = LabelBinarizer()\n",
    "lb_encoder6 = LabelBinarizer()\n",
    "\n",
    "\n",
    "X_train_cat_1 = lb_encoder1.fit_transform(X_train_cat_tr_pd['gender'])\n",
    "X_train_cat_2 = lb_encoder2.fit_transform(X_train_cat_tr_pd['maritalStatus'])\n",
    "X_train_cat_3 = le_encoder.fit_transform(X_train_cat_tr_pd['education'])\n",
    "X_train_cat_4 = lb_encoder3.fit_transform(X_train_cat_tr_pd['income'])\n",
    "X_train_cat_5 = lb_encoder4.fit_transform(X_train_cat_tr_pd['destination'])\n",
    "X_train_cat_6 = lb_encoder5.fit_transform(X_train_cat_tr_pd['passanger'])\n",
    "X_train_cat_7 = lb_encoder6.fit_transform(X_train_cat_tr_pd['weather'])\n",
    "X_train_cat_8 = lb_encoder6.fit_transform(X_train_cat_tr_pd['visitPub'])\n",
    "X_train_cat_9 = lb_encoder6.fit_transform(X_train_cat_tr_pd['visitCoffeeHouse'])\n",
    "X_train_cat_10 = lb_encoder6.fit_transform(X_train_cat_tr_pd['visitFastFood'])\n",
    "X_train_cat_11 = lb_encoder6.fit_transform(X_train_cat_tr_pd['visitFoodCourt'])\n",
    "X_train_cat_12 = lb_encoder6.fit_transform(X_train_cat_tr_pd['visitRestaurant'])\n",
    "X_train_cat_13 = lb_encoder6.fit_transform(X_train_cat_tr_pd['storeType'])\n",
    "X_train_cat_14 = lb_encoder6.fit_transform(X_train_cat_tr_pd['offerEndSoon'])\n"
   ]
  },
  {
   "cell_type": "code",
   "execution_count": 18,
   "id": "3c707bee",
   "metadata": {},
   "outputs": [
    {
     "data": {
      "text/html": [
       "<div>\n",
       "<style scoped>\n",
       "    .dataframe tbody tr th:only-of-type {\n",
       "        vertical-align: middle;\n",
       "    }\n",
       "\n",
       "    .dataframe tbody tr th {\n",
       "        vertical-align: top;\n",
       "    }\n",
       "\n",
       "    .dataframe thead th {\n",
       "        text-align: right;\n",
       "    }\n",
       "</style>\n",
       "<table border=\"1\" class=\"dataframe\">\n",
       "  <thead>\n",
       "    <tr style=\"text-align: right;\">\n",
       "      <th></th>\n",
       "      <th>0</th>\n",
       "    </tr>\n",
       "  </thead>\n",
       "  <tbody>\n",
       "    <tr>\n",
       "      <th>0</th>\n",
       "      <td>2</td>\n",
       "    </tr>\n",
       "    <tr>\n",
       "      <th>1</th>\n",
       "      <td>2</td>\n",
       "    </tr>\n",
       "    <tr>\n",
       "      <th>2</th>\n",
       "      <td>5</td>\n",
       "    </tr>\n",
       "    <tr>\n",
       "      <th>3</th>\n",
       "      <td>3</td>\n",
       "    </tr>\n",
       "    <tr>\n",
       "      <th>4</th>\n",
       "      <td>2</td>\n",
       "    </tr>\n",
       "    <tr>\n",
       "      <th>...</th>\n",
       "      <td>...</td>\n",
       "    </tr>\n",
       "    <tr>\n",
       "      <th>9892</th>\n",
       "      <td>1</td>\n",
       "    </tr>\n",
       "    <tr>\n",
       "      <th>9893</th>\n",
       "      <td>1</td>\n",
       "    </tr>\n",
       "    <tr>\n",
       "      <th>9894</th>\n",
       "      <td>2</td>\n",
       "    </tr>\n",
       "    <tr>\n",
       "      <th>9895</th>\n",
       "      <td>3</td>\n",
       "    </tr>\n",
       "    <tr>\n",
       "      <th>9896</th>\n",
       "      <td>3</td>\n",
       "    </tr>\n",
       "  </tbody>\n",
       "</table>\n",
       "<p>9897 rows × 1 columns</p>\n",
       "</div>"
      ],
      "text/plain": [
       "      0\n",
       "0     2\n",
       "1     2\n",
       "2     5\n",
       "3     3\n",
       "4     2\n",
       "...  ..\n",
       "9892  1\n",
       "9893  1\n",
       "9894  2\n",
       "9895  3\n",
       "9896  3\n",
       "\n",
       "[9897 rows x 1 columns]"
      ]
     },
     "execution_count": 18,
     "metadata": {},
     "output_type": "execute_result"
    }
   ],
   "source": [
    "X_train_cat_3 = pd.DataFrame(X_train_cat_3)\n",
    "X_train_cat_3"
   ]
  },
  {
   "cell_type": "code",
   "execution_count": 19,
   "id": "61b79c07",
   "metadata": {},
   "outputs": [
    {
     "name": "stdout",
     "output_type": "stream",
     "text": [
      "X_train_tr shape: (9897, 64)\n",
      "y_train shape: (9897,)\n"
     ]
    }
   ],
   "source": [
    "X_train_cat_tr = np.hstack([X_train_cat_1, X_train_cat_2, X_train_cat_3, X_train_cat_4, X_train_cat_5, X_train_cat_6, \n",
    "                            X_train_cat_7,X_train_cat_8,X_train_cat_9,X_train_cat_10,X_train_cat_11,X_train_cat_12,X_train_cat_13\n",
    "                           ,X_train_cat_14])\n",
    "\n",
    "\n",
    "X_train_tr = np.hstack([X_train_num_tr, X_train_cat_tr])\n",
    "                       \n",
    "print('X_train_tr shape:', X_train_tr.shape)\n",
    "print('y_train shape:', y_train.shape)"
   ]
  },
  {
   "cell_type": "code",
   "execution_count": 23,
   "id": "97162241",
   "metadata": {},
   "outputs": [],
   "source": [
    "if isinstance(y_train, pd.Series):\n",
    "    y_train = y_train.values"
   ]
  },
  {
   "cell_type": "code",
   "execution_count": 24,
   "id": "bf272e4e",
   "metadata": {},
   "outputs": [],
   "source": [
    "RandomOS = RandomOverSampler(sampling_strategy = \"minority\")"
   ]
  },
  {
   "cell_type": "code",
   "execution_count": 25,
   "id": "0e7379e2",
   "metadata": {},
   "outputs": [
    {
     "name": "stdout",
     "output_type": "stream",
     "text": [
      "X_train_tr_ros [[-1.0333491   1.1890763   0.88600904 ...  0.          0.\n",
      "   0.        ]\n",
      " [ 0.6942671   1.1890763   0.88600904 ...  0.          0.\n",
      "   0.        ]\n",
      " [-1.29249153 -0.84098893  0.88600904 ...  0.          1.\n",
      "   1.        ]\n",
      " ...\n",
      " [ 1.90359844 -0.84098893 -0.49644778 ...  0.          0.\n",
      "   1.        ]\n",
      " [-1.0333491  -0.84098893  0.88600904 ...  0.          0.\n",
      "   1.        ]\n",
      " [-0.60144505 -0.84098893  0.88600904 ...  0.          0.\n",
      "   0.        ]]\n",
      "y_train_ros [1 1 0 ... 0 0 0]\n"
     ]
    }
   ],
   "source": [
    "X_train_tr_ros, y_train_ros = RandomOS.fit_resample(X_train_tr, y_train)\n",
    "print(\"X_train_tr_ros\", X_train_tr_ros)\n",
    "print(\"y_train_ros\", y_train_ros)"
   ]
  },
  {
   "cell_type": "markdown",
   "id": "88b1242c",
   "metadata": {},
   "source": [
    "## Random Forest Classifier model"
   ]
  },
  {
   "cell_type": "code",
   "execution_count": 26,
   "id": "b2b0c7df",
   "metadata": {},
   "outputs": [
    {
     "name": "stdout",
     "output_type": "stream",
     "text": [
      "Result for the 10 random samples:\n",
      "actual =       0 pred =      0\n",
      "actual =       1 pred =      1\n",
      "actual =       0 pred =      0\n",
      "actual =       1 pred =      1\n",
      "actual =       0 pred =      0\n",
      "actual =       1 pred =      1\n",
      "actual =       1 pred =      1\n",
      "actual =       0 pred =      0\n",
      "actual =       0 pred =      0\n",
      "actual =       0 pred =      0\n"
     ]
    }
   ],
   "source": [
    "forest_clf_1 = RandomForestClassifier(n_estimators=10, \n",
    "                                   random_state=42)\n",
    "\n",
    "forest_clf_1.fit(X_train_tr, y_train)\n",
    "\n",
    "y_pred1 = forest_clf_1.predict(X_train_tr)\n",
    "\n",
    "def show10results(y_train, y_pred):\n",
    "    print('Result for the 10 random samples:')\n",
    "    selected = np.random.randint(0, len(y_train), 10)\n",
    "    for i in selected:\n",
    "        print('actual = {:7.0f} pred ={:7.0f}'.format(y_train[i], y_pred[i]))\n",
    "\n",
    "show10results(y_pred1, y_train)"
   ]
  },
  {
   "cell_type": "code",
   "execution_count": 27,
   "id": "f7499365",
   "metadata": {},
   "outputs": [
    {
     "name": "stdout",
     "output_type": "stream",
     "text": [
      "Result for the 10 random samples:\n",
      "actual =       0 pred =      0\n",
      "actual =       1 pred =      1\n",
      "actual =       0 pred =      0\n",
      "actual =       0 pred =      0\n",
      "actual =       0 pred =      0\n",
      "actual =       1 pred =      1\n",
      "actual =       1 pred =      1\n",
      "actual =       0 pred =      0\n",
      "actual =       0 pred =      0\n",
      "actual =       0 pred =      0\n"
     ]
    }
   ],
   "source": [
    "forest_clf_2 = RandomForestClassifier(n_estimators=10, \n",
    "                                   random_state=42)\n",
    "forest_clf_2.fit(X_train_tr_ros, y_train_ros)\n",
    "\n",
    "y_pred2 = forest_clf_2.predict(X_train_tr_ros)\n",
    "\n",
    "show10results(y_pred2, y_train_ros)"
   ]
  },
  {
   "cell_type": "code",
   "execution_count": 28,
   "id": "5b0a4301",
   "metadata": {},
   "outputs": [
    {
     "name": "stdout",
     "output_type": "stream",
     "text": [
      "Training accuracy:  0.9887\n",
      "[0.6880873  0.71142771 0.71536829]\n"
     ]
    }
   ],
   "source": [
    "acc1=accuracy_score(y_train, y_pred1)\n",
    "print(\"Training accuracy: \", round(acc1, 4))\n",
    "\n",
    "k_scores1 = cross_val_score(forest_clf_1, X_train_tr, y_train, cv=3, scoring='accuracy')\n",
    "print(k_scores1)"
   ]
  },
  {
   "cell_type": "code",
   "execution_count": 29,
   "id": "f0f8a773",
   "metadata": {},
   "outputs": [
    {
     "name": "stdout",
     "output_type": "stream",
     "text": [
      "Training accuracy:  0.9893\n",
      "[0.72615549 0.7507347  0.78540887]\n"
     ]
    }
   ],
   "source": [
    "acc2=accuracy_score(y_train_ros, y_pred2)\n",
    "print(\"Training accuracy: \", round(acc2, 4))\n",
    "\n",
    "k_scores2 = cross_val_score(forest_clf_2, X_train_tr_ros, y_train_ros, cv=3, scoring='accuracy')\n",
    "print(k_scores2)"
   ]
  },
  {
   "cell_type": "code",
   "execution_count": 30,
   "id": "4c08404e",
   "metadata": {},
   "outputs": [
    {
     "data": {
      "text/plain": [
       "array([1, 1, 0, ..., 1, 0, 0], dtype=int64)"
      ]
     },
     "execution_count": 30,
     "metadata": {},
     "output_type": "execute_result"
    }
   ],
   "source": [
    "y_pred_cv1 = cross_val_predict(forest_clf_1, X_train_tr, y_train, cv=3)\n",
    "y_pred_cv1"
   ]
  },
  {
   "cell_type": "code",
   "execution_count": 31,
   "id": "fd319b64",
   "metadata": {},
   "outputs": [
    {
     "data": {
      "text/plain": [
       "array([0, 1, 1, ..., 0, 0, 0], dtype=int64)"
      ]
     },
     "execution_count": 31,
     "metadata": {},
     "output_type": "execute_result"
    }
   ],
   "source": [
    "y_pred_cv2 = cross_val_predict(forest_clf_2, X_train_tr_ros, y_train_ros, cv=3)\n",
    "y_pred_cv2"
   ]
  },
  {
   "cell_type": "code",
   "execution_count": 32,
   "id": "e3c746e2",
   "metadata": {},
   "outputs": [
    {
     "name": "stdout",
     "output_type": "stream",
     "text": [
      "Accuracy using prediction values: 0.9886834394260887\n",
      "Accuracy using all zeros values: 0.4327574012326968\n"
     ]
    }
   ],
   "source": [
    "#Problems with accuracy\n",
    "\n",
    "y_train_pred1 = forest_clf_1.predict(X_train_tr) \n",
    "print('Accuracy using prediction values:', accuracy_score(y_train, y_train_pred1))\n",
    "\n",
    "y_train_allfalse1 = np.zeros(len(y_train), dtype=bool)\n",
    "print('Accuracy using all zeros values:', accuracy_score(y_train, y_train_allfalse1))"
   ]
  },
  {
   "cell_type": "code",
   "execution_count": 33,
   "id": "a6196212",
   "metadata": {},
   "outputs": [
    {
     "name": "stdout",
     "output_type": "stream",
     "text": [
      "Accuracy using prediction values: 0.9893124332027076\n",
      "Accuracy using all zeros values: 0.5\n"
     ]
    }
   ],
   "source": [
    "#Problems with accuracy\n",
    "\n",
    "y_train_pred2 = forest_clf_2.predict(X_train_tr_ros) \n",
    "print('Accuracy using prediction values:', accuracy_score(y_train_ros, y_train_pred2))\n",
    "\n",
    "y_train_allfalse2 = np.zeros(len(y_train_ros), dtype=bool)\n",
    "print('Accuracy using all zeros values:', accuracy_score(y_train_ros, y_train_allfalse2))"
   ]
  },
  {
   "cell_type": "code",
   "execution_count": 34,
   "id": "14de7952",
   "metadata": {},
   "outputs": [
    {
     "name": "stdout",
     "output_type": "stream",
     "text": [
      "[[2948 1335]\n",
      " [1585 4029]]\n"
     ]
    }
   ],
   "source": [
    "cm1=confusion_matrix(y_train, y_pred_cv1)\n",
    "print(cm1)"
   ]
  },
  {
   "cell_type": "code",
   "execution_count": 37,
   "id": "85b5ea33",
   "metadata": {},
   "outputs": [
    {
     "data": {
      "image/png": "[encoded data removed]",
      "text/plain": [
       "<Figure size 640x480 with 2 Axes>"
      ]
     },
     "metadata": {},
     "output_type": "display_data"
    }
   ],
   "source": [
    "group_names = ['True Neg','False Pos','False Neg','True Pos']\n",
    "\n",
    "group_counts = [\"{0:0.0f}\".format(value) for value in\n",
    "                cm1.flatten()]\n",
    "\n",
    "group_percentages = [\"{0:.2%}\".format(value) for value in\n",
    "                     cm1.flatten()/np.sum(cm1)]\n",
    "\n",
    "labels = [f\"{v1}\\n{v2}\\n{v3}\" for v1, v2, v3 in\n",
    "          zip(group_names,group_counts,group_percentages)]\n",
    "\n",
    "labels = np.asarray(labels).reshape(2,2)\n",
    "\n",
    "ax = sns.heatmap(cm1, annot=labels, fmt='', cmap='Blues')\n",
    "\n",
    "ax.set_title('Confusion Matrix with labels\\n\\n');\n",
    "ax.set_xlabel('\\nPredicted Values')\n",
    "ax.set_ylabel('Actual Values ');\n",
    "\n",
    "## Ticket labels - List must be in alphabetical order\n",
    "ax.xaxis.set_ticklabels(['False','True'])\n",
    "ax.yaxis.set_ticklabels(['False','True'])\n",
    "\n",
    "## Display the visualization of the Confusion Matrix.\n",
    "plt.show()"
   ]
  },
  {
   "cell_type": "code",
   "execution_count": 38,
   "id": "cfb3077e",
   "metadata": {},
   "outputs": [
    {
     "name": "stdout",
     "output_type": "stream",
     "text": [
      "[[4657  957]\n",
      " [1804 3810]]\n"
     ]
    }
   ],
   "source": [
    "cm2=confusion_matrix(y_train_ros, y_pred_cv2)\n",
    "print(cm2)"
   ]
  },
  {
   "cell_type": "code",
   "execution_count": 39,
   "id": "ac5975b6",
   "metadata": {},
   "outputs": [
    {
     "data": {
      "image/png": "[encoded data removed]",
      "text/plain": [
       "<Figure size 640x480 with 2 Axes>"
      ]
     },
     "metadata": {},
     "output_type": "display_data"
    }
   ],
   "source": [
    "group_names = ['True Neg','False Pos','False Neg','True Pos']\n",
    "\n",
    "group_counts = [\"{0:0.0f}\".format(value) for value in\n",
    "                cm2.flatten()]\n",
    "\n",
    "group_percentages = [\"{0:.2%}\".format(value) for value in\n",
    "                     cm2.flatten()/np.sum(cm2)]\n",
    "\n",
    "labels = [f\"{v1}\\n{v2}\\n{v3}\" for v1, v2, v3 in\n",
    "          zip(group_names,group_counts,group_percentages)]\n",
    "\n",
    "labels = np.asarray(labels).reshape(2,2)\n",
    "\n",
    "ax = sns.heatmap(cm2, annot=labels, fmt='', cmap='Blues')\n",
    "\n",
    "ax.set_title('Confusion Matrix with labels\\n\\n');\n",
    "ax.set_xlabel('\\nPredicted Values')\n",
    "ax.set_ylabel('Actual Values ');\n",
    "\n",
    "## Ticket labels - List must be in alphabetical order\n",
    "ax.xaxis.set_ticklabels(['False','True'])\n",
    "ax.yaxis.set_ticklabels(['False','True'])\n",
    "\n",
    "## Display the visualization of the Confusion Matrix.\n",
    "plt.show()"
   ]
  },
  {
   "cell_type": "code",
   "execution_count": 40,
   "id": "d0442c65",
   "metadata": {},
   "outputs": [
    {
     "name": "stdout",
     "output_type": "stream",
     "text": [
      "Precision = 0.7511\n",
      "Recall = 0.7177\n",
      "f1 score = 0.7340\n"
     ]
    }
   ],
   "source": [
    "print(\"Precision = {:.4f}\".format(precision_score(y_train,y_pred_cv1)))\n",
    "print(\"Recall = {:.4f}\".format(recall_score(y_train,y_pred_cv1)))\n",
    "print(\"f1 score = {:.4f}\".format(f1_score(y_train,y_pred_cv1)))"
   ]
  },
  {
   "cell_type": "code",
   "execution_count": 41,
   "id": "218e88b7",
   "metadata": {},
   "outputs": [
    {
     "name": "stdout",
     "output_type": "stream",
     "text": [
      "Precision = 0.7992\n",
      "Recall = 0.6787\n",
      "f1 score = 0.7340\n"
     ]
    }
   ],
   "source": [
    "print(\"Precision = {:.4f}\".format(precision_score(y_train_ros,y_pred_cv2)))\n",
    "print(\"Recall = {:.4f}\".format(recall_score(y_train_ros,y_pred_cv2)))\n",
    "print(\"f1 score = {:.4f}\".format(f1_score(y_train_ros,y_pred_cv2)))"
   ]
  },
  {
   "cell_type": "code",
   "execution_count": 42,
   "id": "35c925aa",
   "metadata": {},
   "outputs": [],
   "source": [
    "y_scores_cv=cross_val_predict(forest_clf_1,\n",
    "                             X_train_tr_ros,\n",
    "                             y_train_ros,\n",
    "                             cv=3,\n",
    "                             method=\"predict_proba\")\n",
    "y_scores_cv\n",
    "y_scores_cv = y_scores_cv[:, 1]"
   ]
  },
  {
   "cell_type": "code",
   "execution_count": 43,
   "id": "2c5e26e8",
   "metadata": {},
   "outputs": [],
   "source": [
    "precisions, recalls, thresholds =  precision_recall_curve(y_train_ros,y_scores_cv)"
   ]
  },
  {
   "cell_type": "code",
   "execution_count": 44,
   "id": "b977587a",
   "metadata": {},
   "outputs": [
    {
     "data": {
      "image/png": "[encoded data removed]",
      "text/plain": [
       "<Figure size 1000x800 with 1 Axes>"
      ]
     },
     "metadata": {},
     "output_type": "display_data"
    }
   ],
   "source": [
    "def plot_precision_vs_recall(precisions, recalls):\n",
    "    plt.plot(recalls, precisions, \"b-\", linewidth=3)\n",
    "    plt.plot(np.linspace(0, 1, 20), np.linspace(1, 0, 20), 'k--')\n",
    "    plt.xlabel(\"Recall\", fontsize=16)\n",
    "    plt.ylabel(\"Precision\", fontsize=16)\n",
    "    plt.axis([0, 1, 0, 1])\n",
    "\n",
    "plt.figure(figsize=(10, 8))\n",
    "plot_precision_vs_recall(precisions, recalls)\n",
    "plt.title ('Precision-Recall Graph (Training Set)', fontsize = 20)\n",
    "plt.show()"
   ]
  },
  {
   "cell_type": "code",
   "execution_count": 45,
   "id": "cc7f0d5c",
   "metadata": {},
   "outputs": [],
   "source": [
    "fpr, tpr, thresholds = roc_curve(y_train_ros, y_scores_cv)"
   ]
  },
  {
   "cell_type": "code",
   "execution_count": 46,
   "id": "26621db3",
   "metadata": {},
   "outputs": [
    {
     "data": {
      "image/png": "[encoded data removed]",
      "text/plain": [
       "<Figure size 1200x800 with 1 Axes>"
      ]
     },
     "metadata": {},
     "output_type": "display_data"
    }
   ],
   "source": [
    "def plot_roc_curve (fpr, tpr, style = 'b-', label = None):\n",
    "    plt.plot(fpr, tpr, style, linewidth = 3, label = label)\n",
    "    plt.plot([0,1], [0, 1], 'k--')\n",
    "    plt.axis([0, 1, 0, 1])\n",
    "    plt.xlabel ('False Positive Rate')\n",
    "    plt.ylabel ('True Positive Rate')\n",
    "    plt.title('TPR vs FPR', fontsize=20)\n",
    "    \n",
    "\n",
    "plt.figure(figsize=(12, 8))\n",
    "plot_roc_curve(fpr, tpr)"
   ]
  },
  {
   "cell_type": "code",
   "execution_count": 47,
   "id": "73c09299",
   "metadata": {},
   "outputs": [
    {
     "name": "stdout",
     "output_type": "stream",
     "text": [
      "AUC = 0.8410\n"
     ]
    }
   ],
   "source": [
    "auc = roc_auc_score(y_train_ros, y_scores_cv)\n",
    "\n",
    "print('AUC = {:.4f}'.format(auc))"
   ]
  },
  {
   "cell_type": "code",
   "execution_count": 48,
   "id": "5f7c23d5",
   "metadata": {},
   "outputs": [
    {
     "name": "stdout",
     "output_type": "stream",
     "text": [
      "Fitting 3 folds for each of 100 candidates, totalling 300 fits\n",
      "Random grid:  {'n_estimators': [24, 40, 56], 'max_features': ['auto', 'sqrt'], 'max_depth': [20, 40], 'min_samples_split': [2, 6, 10], 'min_samples_leaf': [1, 3, 4], 'bootstrap': [True, False]} \n",
      "\n",
      "Best Parameters:  {'n_estimators': 56, 'min_samples_split': 2, 'min_samples_leaf': 1, 'max_features': 'sqrt', 'max_depth': 20, 'bootstrap': False}  \n",
      "\n"
     ]
    }
   ],
   "source": [
    "n_estimators = [24,40,56]\n",
    "max_features = ['auto', 'sqrt']\n",
    "max_depth = [20,40]\n",
    "min_samples_split = [2, 6, 10]\n",
    "min_samples_leaf = [1, 3, 4]\n",
    "bootstrap = [True, False]\n",
    "\n",
    "\n",
    "random_grid = {'n_estimators': n_estimators,\n",
    "               'max_features': max_features,\n",
    "               'max_depth': max_depth,\n",
    "               'min_samples_split': min_samples_split,\n",
    "               'min_samples_leaf': min_samples_leaf,\n",
    "               'bootstrap': bootstrap}\n",
    "\n",
    "rf_random = RandomizedSearchCV(estimator = forest_clf_1,\n",
    "                               param_distributions = random_grid,\n",
    "                               n_iter = 100, cv = 3, verbose=2, random_state=35, n_jobs = -1)\n",
    "\n",
    "rf_random.fit(X_train_tr_ros, y_train_ros)\n",
    "\n",
    "print ('Random grid: ', random_grid, '\\n')\n",
    "print ('Best Parameters: ', rf_random.best_params_, ' \\n')"
   ]
  },
  {
   "cell_type": "code",
   "execution_count": 49,
   "id": "3f9ebb1c",
   "metadata": {},
   "outputs": [
    {
     "data": {
      "text/html": [
       "<style>#sk-container-id-1 {color: black;background-color: white;}#sk-container-id-1 pre{padding: 0;}#sk-container-id-1 div.sk-toggleable {background-color: white;}#sk-container-id-1 label.sk-toggleable__label {cursor: pointer;display: block;width: 100%;margin-bottom: 0;padding: 0.3em;box-sizing: border-box;text-align: center;}#sk-container-id-1 label.sk-toggleable__label-arrow:before {content: \"▸\";float: left;margin-right: 0.25em;color: #696969;}#sk-container-id-1 label.sk-toggleable__label-arrow:hover:before {color: black;}#sk-container-id-1 div.sk-estimator:hover label.sk-toggleable__label-arrow:before {color: black;}#sk-container-id-1 div.sk-toggleable__content {max-height: 0;max-width: 0;overflow: hidden;text-align: left;background-color: #f0f8ff;}#sk-container-id-1 div.sk-toggleable__content pre {margin: 0.2em;color: black;border-radius: 0.25em;background-color: #f0f8ff;}#sk-container-id-1 input.sk-toggleable__control:checked~div.sk-toggleable__content {max-height: 200px;max-width: 100%;overflow: auto;}#sk-container-id-1 input.sk-toggleable__control:checked~label.sk-toggleable__label-arrow:before {content: \"▾\";}#sk-container-id-1 div.sk-estimator input.sk-toggleable__control:checked~label.sk-toggleable__label {background-color: #d4ebff;}#sk-container-id-1 div.sk-label input.sk-toggleable__control:checked~label.sk-toggleable__label {background-color: #d4ebff;}#sk-container-id-1 input.sk-hidden--visually {border: 0;clip: rect(1px 1px 1px 1px);clip: rect(1px, 1px, 1px, 1px);height: 1px;margin: -1px;overflow: hidden;padding: 0;position: absolute;width: 1px;}#sk-container-id-1 div.sk-estimator {font-family: monospace;background-color: #f0f8ff;border: 1px dotted black;border-radius: 0.25em;box-sizing: border-box;margin-bottom: 0.5em;}#sk-container-id-1 div.sk-estimator:hover {background-color: #d4ebff;}#sk-container-id-1 div.sk-parallel-item::after {content: \"\";width: 100%;border-bottom: 1px solid gray;flex-grow: 1;}#sk-container-id-1 div.sk-label:hover label.sk-toggleable__label {background-color: #d4ebff;}#sk-container-id-1 div.sk-serial::before {content: \"\";position: absolute;border-left: 1px solid gray;box-sizing: border-box;top: 0;bottom: 0;left: 50%;z-index: 0;}#sk-container-id-1 div.sk-serial {display: flex;flex-direction: column;align-items: center;background-color: white;padding-right: 0.2em;padding-left: 0.2em;position: relative;}#sk-container-id-1 div.sk-item {position: relative;z-index: 1;}#sk-container-id-1 div.sk-parallel {display: flex;align-items: stretch;justify-content: center;background-color: white;position: relative;}#sk-container-id-1 div.sk-item::before, #sk-container-id-1 div.sk-parallel-item::before {content: \"\";position: absolute;border-left: 1px solid gray;box-sizing: border-box;top: 0;bottom: 0;left: 50%;z-index: -1;}#sk-container-id-1 div.sk-parallel-item {display: flex;flex-direction: column;z-index: 1;position: relative;background-color: white;}#sk-container-id-1 div.sk-parallel-item:first-child::after {align-self: flex-end;width: 50%;}#sk-container-id-1 div.sk-parallel-item:last-child::after {align-self: flex-start;width: 50%;}#sk-container-id-1 div.sk-parallel-item:only-child::after {width: 0;}#sk-container-id-1 div.sk-dashed-wrapped {border: 1px dashed gray;margin: 0 0.4em 0.5em 0.4em;box-sizing: border-box;padding-bottom: 0.4em;background-color: white;}#sk-container-id-1 div.sk-label label {font-family: monospace;font-weight: bold;display: inline-block;line-height: 1.2em;}#sk-container-id-1 div.sk-label-container {text-align: center;}#sk-container-id-1 div.sk-container {/* jupyter's `normalize.less` sets `[hidden] { display: none; }` but bootstrap.min.css set `[hidden] { display: none !important; }` so we also need the `!important` here to be able to override the default hidden behavior on the sphinx rendered scikit-learn.org. See: https://github.com/scikit-learn/scikit-learn/issues/21755 */display: inline-block !important;position: relative;}#sk-container-id-1 div.sk-text-repr-fallback {display: none;}</style><div id=\"sk-container-id-1\" class=\"sk-top-container\"><div class=\"sk-text-repr-fallback\"><pre>RandomForestClassifier(bootstrap=False, max_depth=20, n_estimators=56,\n",
       "                       random_state=42)</pre><b>In a Jupyter environment, please rerun this cell to show the HTML representation or trust the notebook. <br />On GitHub, the HTML representation is unable to render, please try loading this page with nbviewer.org.</b></div><div class=\"sk-container\" hidden><div class=\"sk-item\"><div class=\"sk-estimator sk-toggleable\"><input class=\"sk-toggleable__control sk-hidden--visually\" id=\"sk-estimator-id-1\" type=\"checkbox\" checked><label for=\"sk-estimator-id-1\" class=\"sk-toggleable__label sk-toggleable__label-arrow\">RandomForestClassifier</label><div class=\"sk-toggleable__content\"><pre>RandomForestClassifier(bootstrap=False, max_depth=20, n_estimators=56,\n",
       "                       random_state=42)</pre></div></div></div></div></div>"
      ],
      "text/plain": [
       "RandomForestClassifier(bootstrap=False, max_depth=20, n_estimators=56,\n",
       "                       random_state=42)"
      ]
     },
     "execution_count": 49,
     "metadata": {},
     "output_type": "execute_result"
    }
   ],
   "source": [
    "best_model_forest = rf_random.best_estimator_\n",
    "best_model_forest"
   ]
  },
  {
   "cell_type": "code",
   "execution_count": 50,
   "id": "e8c4346d",
   "metadata": {},
   "outputs": [
    {
     "name": "stdout",
     "output_type": "stream",
     "text": [
      "Best hyperparameter settings: {'n_estimators': 56, 'min_samples_split': 2, 'min_samples_leaf': 1, 'max_features': 'sqrt', 'max_depth': 20, 'bootstrap': False}\n",
      "RMSE of the best model = nan\n"
     ]
    },
    {
     "name": "stderr",
     "output_type": "stream",
     "text": [
      "C:\\Users\\User\\AppData\\Local\\Temp\\ipykernel_14504\\2128318613.py:2: RuntimeWarning: invalid value encountered in sqrt\n",
      "  print('RMSE of the best model =', np.sqrt(-rf_random.best_score_))\n"
     ]
    }
   ],
   "source": [
    "print('Best hyperparameter settings:', rf_random.best_params_)\n",
    "print('RMSE of the best model =', np.sqrt(-rf_random.best_score_))"
   ]
  },
  {
   "cell_type": "code",
   "execution_count": 51,
   "id": "751dd167",
   "metadata": {},
   "outputs": [
    {
     "data": {
      "text/plain": [
       "[(0.05886981839039167, 'age'),\n",
       " (0.045928650299154654, 'Widowed'),\n",
       " (0.04365018177139842, 'time'),\n",
       " (0.025883261404096962, 'temperature'),\n",
       " (0.023413968759096116, 'moreThan5km'),\n",
       " (0.022715048056744364, 'Female'),\n",
       " (0.02268648937932625, 'Family'),\n",
       " (0.01749658744692361, 'children'),\n",
       " (0.01621624965600576, 'Partner'),\n",
       " (0.016109869644575416, 'Partner'),\n",
       " (0.01556232388284566, 'No'),\n",
       " (0.014958631828403068, 'Divorced'),\n",
       " (0.01490945659771958, 'College'),\n",
       " (0.014340921052731133, 'Graduate degree'),\n",
       " (0.013950600744274202, 'Associates degree'),\n",
       " (0.013804067934747923, 'High School'),\n",
       " (0.013780448962674207, 'Bachelors degree'),\n",
       " (0.013581139045644059, 'Married'),\n",
       " (0.013228773504781867, '$50000 - $62499'),\n",
       " (0.013127336032872012, 'sameDirection'),\n",
       " (0.012239331257422567, 'Less than $12500'),\n",
       " (0.011916776343277872, 'Alone'),\n",
       " (0.011796858105061958, '$75000 - $87499'),\n",
       " (0.01060743062240827, '$37500 - $49999'),\n",
       " (0.01058656899886272, 'moreThan15km'),\n",
       " (0.010552642080312674, 'Friends'),\n",
       " (0.010316608406685095, '$12500 - $24999'),\n",
       " (0.009940782478824127, '$100000 or More'),\n",
       " (0.009425544264266303, 'High School Graduate'),\n",
       " (0.009127110975866765, '$25000 - $37499'),\n",
       " (0.008854428728249606, '$62500 - $74999'),\n",
       " (0.007149394091416517, 'Home'),\n",
       " (0.006834189102275173, 'Work'),\n",
       " (0.006721180506615398, 'Others'),\n",
       " (0.006645139247388019, '$87500 - $99999'),\n",
       " (0.004803382336707712, 'Male'),\n",
       " (0.004417509018766576, 'Yes'),\n",
       " (0.0018153170837028854, 'Single')]"
      ]
     },
     "execution_count": 51,
     "metadata": {},
     "output_type": "execute_result"
    }
   ],
   "source": [
    "feature_importances = rf_random.best_estimator_.feature_importances_\n",
    "attributes = X_train_num.columns.tolist() + list(lb_encoder1.classes_) + list(lb_encoder2.classes_) + list(le_encoder.classes_) + list(lb_encoder3.classes_) + list(lb_encoder4.classes_) + list(lb_encoder5.classes_) + list(lb_encoder6.classes_)\n",
    "sorted(zip(feature_importances, attributes), reverse=True)"
   ]
  }
 ],
 "metadata": {
  "kernelspec": {
   "display_name": "Python 3 (ipykernel)",
   "language": "python",
   "name": "python3"
  },
  "language_info": {
   "codemirror_mode": {
    "name": "ipython",
    "version": 3
   },
   "file_extension": ".py",
   "mimetype": "text/x-python",
   "name": "python",
   "nbconvert_exporter": "python",
   "pygments_lexer": "ipython3",
   "version": "3.10.9"
  }
 },
 "nbformat": 4,
 "nbformat_minor": 5
}
